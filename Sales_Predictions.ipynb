{
  "nbformat": 4,
  "nbformat_minor": 0,
  "metadata": {
    "colab": {
      "provenance": [],
      "authorship_tag": "ABX9TyNUXGWpekxvjsGDN5FQKVPm",
      "include_colab_link": true
    },
    "kernelspec": {
      "name": "python3",
      "display_name": "Python 3"
    },
    "language_info": {
      "name": "python"
    }
  },
  "cells": [
    {
      "cell_type": "markdown",
      "metadata": {
        "id": "view-in-github",
        "colab_type": "text"
      },
      "source": [
        "<a href=\"https://colab.research.google.com/github/angelicav1006/-Project-1---Part-1/blob/main/Sales_Predictions.ipynb\" target=\"_parent\"><img src=\"https://colab.research.google.com/assets/colab-badge.svg\" alt=\"Open In Colab\"/></a>"
      ]
    },
    {
      "cell_type": "markdown",
      "source": [
        "## **Project 1 - Part 1**"
      ],
      "metadata": {
        "id": "amNq-t5JvYCm"
      }
    },
    {
      "cell_type": "markdown",
      "source": [
        "Angelica Vasquez"
      ],
      "metadata": {
        "id": "uTny4nfgv6S0"
      }
    },
    {
      "cell_type": "markdown",
      "source": [
        "## **Loading Data**"
      ],
      "metadata": {
        "id": "9JR71TNCwCbH"
      }
    },
    {
      "cell_type": "code",
      "source": [],
      "metadata": {
        "id": "SkOkfgC0wIFW"
      },
      "execution_count": null,
      "outputs": []
    },
    {
      "cell_type": "markdown",
      "source": [
        "## **Data Cleaning**"
      ],
      "metadata": {
        "id": "qtx8eO7wwNaf"
      }
    },
    {
      "cell_type": "code",
      "source": [],
      "metadata": {
        "id": "j53XBGhmwX9w"
      },
      "execution_count": null,
      "outputs": []
    },
    {
      "cell_type": "markdown",
      "source": [
        "## **Exploratory Visuals**"
      ],
      "metadata": {
        "id": "_RnU0aYOwcgZ"
      }
    },
    {
      "cell_type": "code",
      "source": [],
      "metadata": {
        "id": "SMDCr-j5wsfC"
      },
      "execution_count": null,
      "outputs": []
    },
    {
      "cell_type": "markdown",
      "source": [
        "## **Explanatory Visuals**"
      ],
      "metadata": {
        "id": "AEg2XfCDwt0-"
      }
    },
    {
      "cell_type": "code",
      "source": [],
      "metadata": {
        "id": "ENHDwxlHwyJz"
      },
      "execution_count": null,
      "outputs": []
    }
  ]
}