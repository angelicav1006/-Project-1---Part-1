{
  "nbformat": 4,
  "nbformat_minor": 0,
  "metadata": {
    "colab": {
      "provenance": [],
      "authorship_tag": "ABX9TyN9M32DYYCHRunjllFbtmft",
      "include_colab_link": true
    },
    "kernelspec": {
      "name": "python3",
      "display_name": "Python 3"
    },
    "language_info": {
      "name": "python"
    }
  },
  "cells": [
    {
      "cell_type": "markdown",
      "metadata": {
        "id": "view-in-github",
        "colab_type": "text"
      },
      "source": [
        "<a href=\"https://colab.research.google.com/github/angelicav1006/-Project-1---Part-1/blob/main/Food%20Sales%20Prediction.ipynb\" target=\"_parent\"><img src=\"https://colab.research.google.com/assets/colab-badge.svg\" alt=\"Open In Colab\"/></a>"
      ]
    },
    {
      "cell_type": "code",
      "execution_count": null,
      "metadata": {
        "id": "ZcW0lZyJN07x"
      },
      "outputs": [],
      "source": [
        "#Project 1 part 1\n",
        "Angelica Vasquez\n",
        "\n",
        "##Loading Data\n",
        "\n",
        "##Data Cleaning\n",
        "\n",
        "##Exploratory Visuals\n",
        "\n",
        "##Explanatory Visuals"
      ]
    }
  ]
}